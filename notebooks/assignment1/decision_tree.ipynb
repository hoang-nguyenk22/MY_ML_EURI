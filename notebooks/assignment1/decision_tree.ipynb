{
 "cells": [
  {
   "cell_type": "markdown",
   "metadata": {},
   "source": [
    "# Decision Tree with Cross-Validation and Post-Pruning\n",
    "\n",
    "This notebook demonstrates the process of training a Decision Tree classifier for image classification using the **CoronaHack Chest X-Ray Dataset**. The key steps include:\n",
    "\n",
    "- Data loading and preprocessing\n",
    "- Training a full basic tree\n",
    "- Implementing K-Fold cross-validation\n",
    "- Post-pruning using cost complexity pruning (CCP)\n",
    "- Evaluating model performance\n",
    "\n",
    "We aim to improve model accuracy by avoiding overfitting through cross-validation and pruning.\n"
   ]
  },
  {
   "cell_type": "code",
   "execution_count": 1,
   "metadata": {},
   "outputs": [],
   "source": [
    "# General libraries\n",
    "import pandas as pd\n",
    "import os\n",
    "import numpy as np\n",
    "\n",
    "# Library to handle images and graphs\n",
    "from PIL import Image\n",
    "import matplotlib.pyplot as plt\n",
    "import seaborn as sns\n",
    "\n",
    "# Library for decision tree model\n",
    "from sklearn.tree import DecisionTreeClassifier\n",
    "from sklearn.model_selection import GridSearchCV\n",
    "from sklearn.metrics import accuracy_score, confusion_matrix, classification_report"
   ]
  },
  {
   "cell_type": "markdown",
   "metadata": {},
   "source": [
    "### 1. Prepare Data\n",
    "\n",
    "In this section, we prepare the data by:\n",
    "- Filtering out records that do not belong to the three target classes: **Normal**, **Viral Pneumonia** (pneumonia due to virus), and **Bacterial Pneumonia** (pneumonia due to bacteria).\n",
    "- Splitting the dataset into training and testing sets using the `Dataset_type` column."
   ]
  },
  {
   "cell_type": "code",
   "execution_count": 2,
   "metadata": {},
   "outputs": [
    {
     "data": {
      "text/html": [
       "<div>\n",
       "<style scoped>\n",
       "    .dataframe tbody tr th:only-of-type {\n",
       "        vertical-align: middle;\n",
       "    }\n",
       "\n",
       "    .dataframe tbody tr th {\n",
       "        vertical-align: top;\n",
       "    }\n",
       "\n",
       "    .dataframe thead th {\n",
       "        text-align: right;\n",
       "    }\n",
       "</style>\n",
       "<table border=\"1\" class=\"dataframe\">\n",
       "  <thead>\n",
       "    <tr style=\"text-align: right;\">\n",
       "      <th></th>\n",
       "      <th>X_ray_image_name</th>\n",
       "      <th>Label</th>\n",
       "      <th>Dataset_type</th>\n",
       "      <th>Label_2_Virus_category</th>\n",
       "      <th>Label_1_Virus_category</th>\n",
       "    </tr>\n",
       "  </thead>\n",
       "  <tbody>\n",
       "    <tr>\n",
       "      <th>0</th>\n",
       "      <td>IM-0128-0001.jpeg</td>\n",
       "      <td>Normal</td>\n",
       "      <td>TRAIN</td>\n",
       "      <td>NaN</td>\n",
       "      <td>NaN</td>\n",
       "    </tr>\n",
       "    <tr>\n",
       "      <th>1</th>\n",
       "      <td>IM-0127-0001.jpeg</td>\n",
       "      <td>Normal</td>\n",
       "      <td>TRAIN</td>\n",
       "      <td>NaN</td>\n",
       "      <td>NaN</td>\n",
       "    </tr>\n",
       "    <tr>\n",
       "      <th>2</th>\n",
       "      <td>IM-0125-0001.jpeg</td>\n",
       "      <td>Normal</td>\n",
       "      <td>TRAIN</td>\n",
       "      <td>NaN</td>\n",
       "      <td>NaN</td>\n",
       "    </tr>\n",
       "    <tr>\n",
       "      <th>3</th>\n",
       "      <td>IM-0122-0001.jpeg</td>\n",
       "      <td>Normal</td>\n",
       "      <td>TRAIN</td>\n",
       "      <td>NaN</td>\n",
       "      <td>NaN</td>\n",
       "    </tr>\n",
       "    <tr>\n",
       "      <th>4</th>\n",
       "      <td>IM-0119-0001.jpeg</td>\n",
       "      <td>Normal</td>\n",
       "      <td>TRAIN</td>\n",
       "      <td>NaN</td>\n",
       "      <td>NaN</td>\n",
       "    </tr>\n",
       "    <tr>\n",
       "      <th>...</th>\n",
       "      <td>...</td>\n",
       "      <td>...</td>\n",
       "      <td>...</td>\n",
       "      <td>...</td>\n",
       "      <td>...</td>\n",
       "    </tr>\n",
       "    <tr>\n",
       "      <th>5905</th>\n",
       "      <td>person1637_virus_2834.jpeg</td>\n",
       "      <td>Pnemonia</td>\n",
       "      <td>TEST</td>\n",
       "      <td>NaN</td>\n",
       "      <td>Virus</td>\n",
       "    </tr>\n",
       "    <tr>\n",
       "      <th>5906</th>\n",
       "      <td>person1635_virus_2831.jpeg</td>\n",
       "      <td>Pnemonia</td>\n",
       "      <td>TEST</td>\n",
       "      <td>NaN</td>\n",
       "      <td>Virus</td>\n",
       "    </tr>\n",
       "    <tr>\n",
       "      <th>5907</th>\n",
       "      <td>person1634_virus_2830.jpeg</td>\n",
       "      <td>Pnemonia</td>\n",
       "      <td>TEST</td>\n",
       "      <td>NaN</td>\n",
       "      <td>Virus</td>\n",
       "    </tr>\n",
       "    <tr>\n",
       "      <th>5908</th>\n",
       "      <td>person1633_virus_2829.jpeg</td>\n",
       "      <td>Pnemonia</td>\n",
       "      <td>TEST</td>\n",
       "      <td>NaN</td>\n",
       "      <td>Virus</td>\n",
       "    </tr>\n",
       "    <tr>\n",
       "      <th>5909</th>\n",
       "      <td>person1632_virus_2827.jpeg</td>\n",
       "      <td>Pnemonia</td>\n",
       "      <td>TEST</td>\n",
       "      <td>NaN</td>\n",
       "      <td>Virus</td>\n",
       "    </tr>\n",
       "  </tbody>\n",
       "</table>\n",
       "<p>5910 rows × 5 columns</p>\n",
       "</div>"
      ],
      "text/plain": [
       "                X_ray_image_name     Label Dataset_type  \\\n",
       "0              IM-0128-0001.jpeg    Normal        TRAIN   \n",
       "1              IM-0127-0001.jpeg    Normal        TRAIN   \n",
       "2              IM-0125-0001.jpeg    Normal        TRAIN   \n",
       "3              IM-0122-0001.jpeg    Normal        TRAIN   \n",
       "4              IM-0119-0001.jpeg    Normal        TRAIN   \n",
       "...                          ...       ...          ...   \n",
       "5905  person1637_virus_2834.jpeg  Pnemonia         TEST   \n",
       "5906  person1635_virus_2831.jpeg  Pnemonia         TEST   \n",
       "5907  person1634_virus_2830.jpeg  Pnemonia         TEST   \n",
       "5908  person1633_virus_2829.jpeg  Pnemonia         TEST   \n",
       "5909  person1632_virus_2827.jpeg  Pnemonia         TEST   \n",
       "\n",
       "     Label_2_Virus_category Label_1_Virus_category  \n",
       "0                       NaN                    NaN  \n",
       "1                       NaN                    NaN  \n",
       "2                       NaN                    NaN  \n",
       "3                       NaN                    NaN  \n",
       "4                       NaN                    NaN  \n",
       "...                     ...                    ...  \n",
       "5905                    NaN                  Virus  \n",
       "5906                    NaN                  Virus  \n",
       "5907                    NaN                  Virus  \n",
       "5908                    NaN                  Virus  \n",
       "5909                    NaN                  Virus  \n",
       "\n",
       "[5910 rows x 5 columns]"
      ]
     },
     "execution_count": 2,
     "metadata": {},
     "output_type": "execute_result"
    }
   ],
   "source": [
    "# Raw data\n",
    "df = pd.read_csv('../../data/raw/Chest_xray_Corona_Metadata.csv')\n",
    "df = df.loc[:, ~df.columns.str.contains('Unnamed: 0')]\n",
    "df"
   ]
  },
  {
   "cell_type": "code",
   "execution_count": 3,
   "metadata": {},
   "outputs": [
    {
     "data": {
      "text/html": [
       "<div>\n",
       "<style scoped>\n",
       "    .dataframe tbody tr th:only-of-type {\n",
       "        vertical-align: middle;\n",
       "    }\n",
       "\n",
       "    .dataframe tbody tr th {\n",
       "        vertical-align: top;\n",
       "    }\n",
       "\n",
       "    .dataframe thead th {\n",
       "        text-align: right;\n",
       "    }\n",
       "</style>\n",
       "<table border=\"1\" class=\"dataframe\">\n",
       "  <thead>\n",
       "    <tr style=\"text-align: right;\">\n",
       "      <th></th>\n",
       "      <th>X_ray_image_name</th>\n",
       "      <th>Label</th>\n",
       "      <th>Dataset_type</th>\n",
       "      <th>Label_2_Virus_category</th>\n",
       "      <th>Label_1_Virus_category</th>\n",
       "      <th>Class</th>\n",
       "    </tr>\n",
       "  </thead>\n",
       "  <tbody>\n",
       "    <tr>\n",
       "      <th>0</th>\n",
       "      <td>IM-0128-0001.jpeg</td>\n",
       "      <td>Normal</td>\n",
       "      <td>TRAIN</td>\n",
       "      <td>NaN</td>\n",
       "      <td>NaN</td>\n",
       "      <td>1</td>\n",
       "    </tr>\n",
       "    <tr>\n",
       "      <th>1</th>\n",
       "      <td>IM-0127-0001.jpeg</td>\n",
       "      <td>Normal</td>\n",
       "      <td>TRAIN</td>\n",
       "      <td>NaN</td>\n",
       "      <td>NaN</td>\n",
       "      <td>1</td>\n",
       "    </tr>\n",
       "    <tr>\n",
       "      <th>2</th>\n",
       "      <td>IM-0125-0001.jpeg</td>\n",
       "      <td>Normal</td>\n",
       "      <td>TRAIN</td>\n",
       "      <td>NaN</td>\n",
       "      <td>NaN</td>\n",
       "      <td>1</td>\n",
       "    </tr>\n",
       "    <tr>\n",
       "      <th>3</th>\n",
       "      <td>IM-0122-0001.jpeg</td>\n",
       "      <td>Normal</td>\n",
       "      <td>TRAIN</td>\n",
       "      <td>NaN</td>\n",
       "      <td>NaN</td>\n",
       "      <td>1</td>\n",
       "    </tr>\n",
       "    <tr>\n",
       "      <th>4</th>\n",
       "      <td>IM-0119-0001.jpeg</td>\n",
       "      <td>Normal</td>\n",
       "      <td>TRAIN</td>\n",
       "      <td>NaN</td>\n",
       "      <td>NaN</td>\n",
       "      <td>1</td>\n",
       "    </tr>\n",
       "    <tr>\n",
       "      <th>...</th>\n",
       "      <td>...</td>\n",
       "      <td>...</td>\n",
       "      <td>...</td>\n",
       "      <td>...</td>\n",
       "      <td>...</td>\n",
       "      <td>...</td>\n",
       "    </tr>\n",
       "    <tr>\n",
       "      <th>5905</th>\n",
       "      <td>person1637_virus_2834.jpeg</td>\n",
       "      <td>Pnemonia</td>\n",
       "      <td>TEST</td>\n",
       "      <td>NaN</td>\n",
       "      <td>Virus</td>\n",
       "      <td>2</td>\n",
       "    </tr>\n",
       "    <tr>\n",
       "      <th>5906</th>\n",
       "      <td>person1635_virus_2831.jpeg</td>\n",
       "      <td>Pnemonia</td>\n",
       "      <td>TEST</td>\n",
       "      <td>NaN</td>\n",
       "      <td>Virus</td>\n",
       "      <td>2</td>\n",
       "    </tr>\n",
       "    <tr>\n",
       "      <th>5907</th>\n",
       "      <td>person1634_virus_2830.jpeg</td>\n",
       "      <td>Pnemonia</td>\n",
       "      <td>TEST</td>\n",
       "      <td>NaN</td>\n",
       "      <td>Virus</td>\n",
       "      <td>2</td>\n",
       "    </tr>\n",
       "    <tr>\n",
       "      <th>5908</th>\n",
       "      <td>person1633_virus_2829.jpeg</td>\n",
       "      <td>Pnemonia</td>\n",
       "      <td>TEST</td>\n",
       "      <td>NaN</td>\n",
       "      <td>Virus</td>\n",
       "      <td>2</td>\n",
       "    </tr>\n",
       "    <tr>\n",
       "      <th>5909</th>\n",
       "      <td>person1632_virus_2827.jpeg</td>\n",
       "      <td>Pnemonia</td>\n",
       "      <td>TEST</td>\n",
       "      <td>NaN</td>\n",
       "      <td>Virus</td>\n",
       "      <td>2</td>\n",
       "    </tr>\n",
       "  </tbody>\n",
       "</table>\n",
       "<p>5908 rows × 6 columns</p>\n",
       "</div>"
      ],
      "text/plain": [
       "                X_ray_image_name     Label Dataset_type  \\\n",
       "0              IM-0128-0001.jpeg    Normal        TRAIN   \n",
       "1              IM-0127-0001.jpeg    Normal        TRAIN   \n",
       "2              IM-0125-0001.jpeg    Normal        TRAIN   \n",
       "3              IM-0122-0001.jpeg    Normal        TRAIN   \n",
       "4              IM-0119-0001.jpeg    Normal        TRAIN   \n",
       "...                          ...       ...          ...   \n",
       "5905  person1637_virus_2834.jpeg  Pnemonia         TEST   \n",
       "5906  person1635_virus_2831.jpeg  Pnemonia         TEST   \n",
       "5907  person1634_virus_2830.jpeg  Pnemonia         TEST   \n",
       "5908  person1633_virus_2829.jpeg  Pnemonia         TEST   \n",
       "5909  person1632_virus_2827.jpeg  Pnemonia         TEST   \n",
       "\n",
       "     Label_2_Virus_category Label_1_Virus_category  Class  \n",
       "0                       NaN                    NaN      1  \n",
       "1                       NaN                    NaN      1  \n",
       "2                       NaN                    NaN      1  \n",
       "3                       NaN                    NaN      1  \n",
       "4                       NaN                    NaN      1  \n",
       "...                     ...                    ...    ...  \n",
       "5905                    NaN                  Virus      2  \n",
       "5906                    NaN                  Virus      2  \n",
       "5907                    NaN                  Virus      2  \n",
       "5908                    NaN                  Virus      2  \n",
       "5909                    NaN                  Virus      2  \n",
       "\n",
       "[5908 rows x 6 columns]"
      ]
     },
     "execution_count": 3,
     "metadata": {},
     "output_type": "execute_result"
    }
   ],
   "source": [
    "\"\"\"\n",
    "Assign class labels and filter relevant records\n",
    "- Class 1: Normal\n",
    "- Class 2: Viral pneumonia\n",
    "- Class 3: Bacterial pneumonia\n",
    "\"\"\"\n",
    "def filter_and_assign_classes(metadata):\n",
    "    # Filter out data records not in the 3 classes\n",
    "    filtered_data = metadata[\n",
    "        (metadata[\"Label\"] == \"Normal\") |\n",
    "        ((metadata[\"Label\"] == \"Pnemonia\") & (\n",
    "            metadata[\"Label_1_Virus_category\"].isin([\"Virus\", \"bacteria\"])))\n",
    "    ].copy()\n",
    "\n",
    "    classes = []\n",
    "    for _, row in filtered_data.iterrows():\n",
    "        if row[\"Label\"] == \"Normal\":\n",
    "            classes.append(1) \n",
    "        elif row[\"Label\"] == \"Pnemonia\" and row[\"Label_1_Virus_category\"] == \"Virus\":\n",
    "            classes.append(2) \n",
    "        elif row[\"Label\"] == \"Pnemonia\" and row[\"Label_1_Virus_category\"] == \"bacteria\":\n",
    "            classes.append(3) \n",
    "\n",
    "    filtered_data[\"Class\"] = classes\n",
    "    return filtered_data\n",
    "\n",
    "filtered_metadata = filter_and_assign_classes(df)\n",
    "filtered_metadata"
   ]
  },
  {
   "cell_type": "code",
   "execution_count": 4,
   "metadata": {},
   "outputs": [
    {
     "data": {
      "text/plain": [
       "(['../../data/raw/Coronahack-Chest-XRay-Dataset/train/IM-0128-0001.jpeg',\n",
       "  '../../data/raw/Coronahack-Chest-XRay-Dataset/train/IM-0127-0001.jpeg',\n",
       "  '../../data/raw/Coronahack-Chest-XRay-Dataset/train/IM-0125-0001.jpeg',\n",
       "  '../../data/raw/Coronahack-Chest-XRay-Dataset/train/IM-0122-0001.jpeg',\n",
       "  '../../data/raw/Coronahack-Chest-XRay-Dataset/train/IM-0119-0001.jpeg',\n",
       "  '../../data/raw/Coronahack-Chest-XRay-Dataset/train/IM-0117-0001.jpeg',\n",
       "  '../../data/raw/Coronahack-Chest-XRay-Dataset/train/IM-0115-0001.jpeg'],\n",
       " ['../../data/raw/Coronahack-Chest-XRay-Dataset/test/IM-0021-0001.jpeg',\n",
       "  '../../data/raw/Coronahack-Chest-XRay-Dataset/test/IM-0019-0001.jpeg',\n",
       "  '../../data/raw/Coronahack-Chest-XRay-Dataset/test/IM-0017-0001.jpeg',\n",
       "  '../../data/raw/Coronahack-Chest-XRay-Dataset/test/IM-0016-0001.jpeg',\n",
       "  '../../data/raw/Coronahack-Chest-XRay-Dataset/test/IM-0015-0001.jpeg',\n",
       "  '../../data/raw/Coronahack-Chest-XRay-Dataset/test/IM-0013-0001.jpeg',\n",
       "  '../../data/raw/Coronahack-Chest-XRay-Dataset/test/IM-0011-0001.jpeg'],\n",
       " array([1, 1, 1, 1, 1, 1, 1]),\n",
       " array([1, 1, 1, 1, 1, 1, 1]))"
      ]
     },
     "execution_count": 4,
     "metadata": {},
     "output_type": "execute_result"
    }
   ],
   "source": [
    "# Split data based on Dataset_type (TRAIN/TEST)\n",
    "def split_data_by_type(metadata):\n",
    "    train_data = metadata[metadata[\"Dataset_type\"] == \"TRAIN\"]\n",
    "    test_data = metadata[metadata[\"Dataset_type\"] == \"TEST\"]\n",
    "\n",
    "    # Store training data\n",
    "    X_train = [os.path.join('../../data/raw/Coronahack-Chest-XRay-Dataset/train/', fname)\n",
    "               for fname in train_data[\"X_ray_image_name\"].values]\n",
    "    y_train = train_data[\"Class\"].values\n",
    "\n",
    "    # Store test data\n",
    "    X_test = [os.path.join('../../data/raw/Coronahack-Chest-XRay-Dataset/test/', fname)\n",
    "              for fname in test_data[\"X_ray_image_name\"].values]\n",
    "    y_test = test_data[\"Class\"].values\n",
    "\n",
    "    return X_train, X_test, y_train, y_test\n",
    "\n",
    "# raw_X_train and raw_X_test: store the filenames in the training data and test data\n",
    "# y_train and y_test: store the corresponding class of each image\n",
    "raw_X_train, raw_X_test, y_train, y_test = split_data_by_type(filtered_metadata)\n",
    "raw_X_train[:7], raw_X_test[:7], y_train[:7], y_test[:7]"
   ]
  },
  {
   "cell_type": "markdown",
   "metadata": {},
   "source": [
    "### 2. Build Features\n",
    "\n",
    "In this step, we preprocess the image data by applying the following transformations:\n",
    "- **Resizing**: Images are resized to a fixed size, here (128, 128).\n",
    "- **Grayscaling**: Converts images to grayscale.\n",
    "- **Normalization**: Pixel values are scaled to the range [0, 1].\n",
    "- **Flattening**: Images are flattened into 1D arrays for model input. \n",
    "\n",
    "Once processed, the features are saved as numpy arrays: `X_train` and `X_test` contain the flattened image data.\n",
    "This ensures that our data is in a format suitable for training the Decision Tree model.\n"
   ]
  },
  {
   "cell_type": "code",
   "execution_count": 5,
   "metadata": {},
   "outputs": [
    {
     "data": {
      "text/plain": [
       "(array([0.        , 0.        , 0.00784314, ..., 0.        , 0.        ,\n",
       "        0.        ]),\n",
       " array([0.        , 0.        , 0.        , ..., 0.51372549, 0.47843137,\n",
       "        0.41960784]))"
      ]
     },
     "execution_count": 5,
     "metadata": {},
     "output_type": "execute_result"
    }
   ],
   "source": [
    "IMAGE_SIZE = (128, 128)\n",
    "# Preprocess images (resize, grayscale, normalize)\n",
    "def preprocess_images(file_paths):\n",
    "    images = []\n",
    "    for file_path in file_paths:\n",
    "        img = Image.open(file_path).convert(\"L\")  # grayscale\n",
    "        img = img.resize(IMAGE_SIZE)\n",
    "        img = np.array(img) / 255.0  # normalize to [0, 1]\n",
    "        images.append(img.flatten())  # flatten for decision tree\n",
    "    return np.array(images)\n",
    "\n",
    "processed_X_train = preprocess_images(raw_X_train)\n",
    "processed_X_test = preprocess_images(raw_X_test)\n",
    "processed_X_train[0], processed_X_test[0]"
   ]
  },
  {
   "cell_type": "markdown",
   "metadata": {},
   "source": [
    "### 3. Basic Decision Tree Model\n",
    "\n",
    "In this step, we train a basic Decision Tree classifier without any pruning or cross-validation. This serves as a baseline model to compare with more advanced approaches later.\n",
    "\n",
    "#### 3.1. Model Training\n",
    "\n",
    "We use the `DecisionTreeClassifier` from `sklearn` and train it on the full training set.\n"
   ]
  },
  {
   "cell_type": "code",
   "execution_count": 6,
   "metadata": {},
   "outputs": [
    {
     "name": "stdout",
     "output_type": "stream",
     "text": [
      "Decision Tree Model Summary:\n",
      "Number of features: 16384\n",
      "Number of classes: 3\n",
      "Tree depth: 40\n",
      "Number of leaves: 499\n",
      "Feature importances: [0.00118325 0.         0.         ... 0.         0.         0.        ]\n"
     ]
    }
   ],
   "source": [
    "# Initialize and train Decision Tree model\n",
    "basic_model = DecisionTreeClassifier()\n",
    "basic_model.fit(processed_X_train, y_train)\n",
    "\n",
    "# Print model summary\n",
    "def summarize_model(model):\n",
    "    print(\"Decision Tree Model Summary:\")\n",
    "    print(f\"Number of features: {processed_X_train.shape[1]}\")\n",
    "    print(f\"Number of classes: {model.n_classes_}\")\n",
    "    print(f\"Tree depth: {model.get_depth()}\")\n",
    "    print(f\"Number of leaves: {model.get_n_leaves()}\")\n",
    "    print(\"Feature importances:\", model.feature_importances_)\n",
    "\n",
    "summarize_model(basic_model)"
   ]
  },
  {
   "cell_type": "markdown",
   "metadata": {},
   "source": [
    "#### 3.2. Prediction and evaluation\n",
    "\n",
    "Once the model is trained, we use it to predict the labels for the test set (`processed_X_test`). \n",
    "We evaluate the model's accuracy by comparing the predicted labels (`y_pred`) with the ground truth labels (`y_test`). This accuracy score gives us a baseline for comparison."
   ]
  },
  {
   "cell_type": "code",
   "execution_count": 7,
   "metadata": {},
   "outputs": [
    {
     "data": {
      "text/plain": [
       "array([2, 2, 3, 2, 2, 2, 1])"
      ]
     },
     "execution_count": 7,
     "metadata": {},
     "output_type": "execute_result"
    }
   ],
   "source": [
    "# Make predictions\n",
    "def predict(model):\n",
    "    return model.predict(processed_X_test)\n",
    "    \n",
    "basic_y_pred = predict(basic_model)\n",
    "basic_y_pred[:7]"
   ]
  },
  {
   "cell_type": "code",
   "execution_count": 8,
   "metadata": {},
   "outputs": [
    {
     "name": "stdout",
     "output_type": "stream",
     "text": [
      "Accuracy: 0.5593\n",
      "Confusion Matrix:\n",
      "[[ 84  81  69]\n",
      " [ 16  74  58]\n",
      " [ 11  40 191]]\n",
      "Classification Report:\n",
      "              precision    recall  f1-score   support\n",
      "\n",
      "           1       0.76      0.36      0.49       234\n",
      "           2       0.38      0.50      0.43       148\n",
      "           3       0.60      0.79      0.68       242\n",
      "\n",
      "    accuracy                           0.56       624\n",
      "   macro avg       0.58      0.55      0.53       624\n",
      "weighted avg       0.61      0.56      0.55       624\n",
      "\n"
     ]
    },
    {
     "data": {
      "image/png": "[encoded data removed]",
      "text/plain": [
       "<Figure size 800x600 with 2 Axes>"
      ]
     },
     "metadata": {},
     "output_type": "display_data"
    }
   ],
   "source": [
    "# Calculate metrics\n",
    "def evaluate(y_pred):\n",
    "    accuracy = accuracy_score(y_test, y_pred) # Accuracy\n",
    "    conf_matrix = confusion_matrix(y_test, y_pred) # Confusion matrix\n",
    "    class_report = classification_report(y_test, y_pred) # Classification report\n",
    "    \n",
    "    print(f\"Accuracy: {accuracy:.4f}\")\n",
    "    \n",
    "    print(\"Confusion Matrix:\")\n",
    "    print(np.array2string(conf_matrix))\n",
    "    \n",
    "    print(\"Classification Report:\")\n",
    "    print(class_report)\n",
    "\n",
    "    plot_normalized_confusion_matrix(conf_matrix)\n",
    "\n",
    "def plot_normalized_confusion_matrix(conf_matrix):\n",
    "    # Normalize confusion matrix by row (true label count)\n",
    "    conf_matrix_ratio = conf_matrix.astype('float') / conf_matrix.sum(axis=1)[:, np.newaxis]\n",
    "    \n",
    "    # Plot confusion matrix\n",
    "    plt.figure(figsize=(8, 6))\n",
    "    sns.heatmap(conf_matrix_ratio, annot=True, fmt=\".2f\", cmap=\"Blues\", xticklabels=[\"Normal\", \"Viral Pneumonia\", \"Bacterial Pneumonia\"], yticklabels=[\"Normal\", \"Viral Pneumonia\", \"Bacterial Pneumonia\"])\n",
    "    plt.xlabel(\"Predicted Label\")\n",
    "    plt.ylabel(\"True Label\")\n",
    "    plt.title(\"Normalized Confusion Matrix\")\n",
    "\n",
    "evaluate(basic_y_pred)"
   ]
  },
  {
   "cell_type": "markdown",
   "metadata": {},
   "source": [
    "#### 3.3. Result analysis\n",
    "\n",
    "The basic Decision Tree model achieved an accuracy of **55.93%**. While the model shows reasonable performance in identifying Bacterial Pneumonia (class 3) with a recall of 79% and a relatively high F1-score of 0.68, its ability to correctly classify Normal (class 1) and Viral Pneumonia (class 2) cases is noticeably weaker.\n",
    "\n",
    "- Normal cases (class 1): 36% are correctly classified, but there is significant confusion with Viral Pneumonia (35%) and Bacterial Pneumonia (29%).\n",
    "- Viral Pneumonia (class 2): Only 50% are correctly predicted, with 39% misclassified as Bacterial Pneumonia.\n",
    "- Bacterial Pneumonia (class 3): 79% are correctly predicted, with fewer misclassifications compared to the other classes.\n",
    "\n",
    "This imbalance, along with the tree's complexity, hints at overfitting to training data patterns without capturing broader trends."
   ]
  },
  {
   "cell_type": "markdown",
   "metadata": {},
   "source": [
    "### 4. Avoid Overfitting with Hyperparameter Tuning using Grid Search and K-Fold Cross-Validation\n",
    "\n",
    "In this section, to avoid the ability of overfitting observed in the basic model, we apply **Grid Search** and **K-Fold Cross-Validation** for hyperparameter tuning. The goal is to identify the best combination of hyperparameters by splitting the training data into multiple folds, training on a subset, and validating on the rest. \n",
    "\n",
    "#### 4.1. Hyperparameter grid\n",
    "\n",
    "We use the following hyperparameters for tuning:\n",
    "\n",
    "- `max_depth`: Controls tree depth to balance under/overfitting.\n",
    "- `min_samples_split`: Minimum samples required to split an internal node.\n",
    "- `min_samples_leaf`: Minimum samples required to be a leaf node."
   ]
  },
  {
   "cell_type": "code",
   "execution_count": 9,
   "metadata": {},
   "outputs": [],
   "source": [
    "# Hyperparameter grid for tuning\n",
    "param_grid = {\n",
    "    'max_depth': [5, 10, 20, 30],\n",
    "    'min_samples_split': [2, 10, 50, 100],\n",
    "    'min_samples_leaf': [1, 10, 50]\n",
    "}"
   ]
  },
  {
   "cell_type": "markdown",
   "metadata": {},
   "source": [
    "#### 4.2. Grid search with k-fold cross-validation and batch processing\n",
    "\n",
    "Given the size of our training data (5284 samples, each with 16,384 features), direct grid search can cause memory issues. To address this, we use **batch processing** — a custom batch generator to load smaller subsets of data into memory during grid search. Batch processing can reduce memory load, ensuring that the hyperparameter tuning process can handle large datasets without exceeding system limits. \n",
    "\n",
    "The grid search iterates through all combinations of hyperparameters, applying K-Fold Cross-Validation to assess performance. The best parameters and corresponding accuracy are then determined after iterating through batches of training data."
   ]
  },
  {
   "cell_type": "code",
   "execution_count": 10,
   "metadata": {},
   "outputs": [],
   "source": [
    "# Define decision tree model to apply grid search\n",
    "dt_model = DecisionTreeClassifier()\n",
    "\n",
    "# Grid search definition with 5-fold cross-validation\n",
    "# Best combination of parameters is determined based on the average accuracy on the validation set of the folds\n",
    "grid_search = GridSearchCV(\n",
    "    estimator=dt_model,\n",
    "    param_grid=param_grid,\n",
    "    cv=5,\n",
    "    scoring='accuracy',\n",
    "    verbose=1\n",
    ")"
   ]
  },
  {
   "cell_type": "code",
   "execution_count": 12,
   "metadata": {},
   "outputs": [
    {
     "name": "stdout",
     "output_type": "stream",
     "text": [
      "Fitting 5 folds for each of 48 candidates, totalling 240 fits\n",
      "Fitting 5 folds for each of 48 candidates, totalling 240 fits\n",
      "Fitting 5 folds for each of 48 candidates, totalling 240 fits\n",
      "Fitting 5 folds for each of 48 candidates, totalling 240 fits\n",
      "Fitting 5 folds for each of 48 candidates, totalling 240 fits\n",
      "Fitting 5 folds for each of 48 candidates, totalling 240 fits\n"
     ]
    },
    {
     "name": "stderr",
     "output_type": "stream",
     "text": [
      "/home/td07/.local/lib/python3.10/site-packages/sklearn/model_selection/_split.py:805: UserWarning: The least populated class in y has only 1 members, which is less than n_splits=5.\n",
      "  warnings.warn(\n"
     ]
    },
    {
     "name": "stdout",
     "output_type": "stream",
     "text": [
      "Best hyperparameters: {'max_depth': 10, 'min_samples_leaf': 1, 'min_samples_split': 10}\n",
      "Best cross-validation accuracy: 0.70062656641604\n"
     ]
    }
   ],
   "source": [
    "# Define batch generator\n",
    "def batch_generator(X, y, batch_size=1000):\n",
    "    n_samples = X.shape[0]\n",
    "    for start in range(0, n_samples, batch_size):\n",
    "        end = min(start + batch_size, n_samples)\n",
    "        yield X[start:end], y[start:end]\n",
    "\n",
    "# Fit in batches\n",
    "for X_batch, y_batch in batch_generator(processed_X_train, y_train):\n",
    "    grid_search.fit(X_batch, y_batch)\n",
    "\n",
    "# Print the best parameters and score\n",
    "print(\"Best hyperparameters:\", grid_search.best_params_)\n",
    "print(\"Best cross-validation accuracy:\", grid_search.best_score_)"
   ]
  },
  {
   "cell_type": "code",
   "execution_count": 14,
   "metadata": {},
   "outputs": [
    {
     "name": "stdout",
     "output_type": "stream",
     "text": [
      "Decision Tree Model Summary:\n",
      "Number of features: 16384\n",
      "Number of classes: 3\n",
      "Tree depth: 10\n",
      "Number of leaves: 208\n",
      "Feature importances: [0. 0. 0. ... 0. 0. 0.]\n"
     ]
    }
   ],
   "source": [
    "# Retrain the final model on the entire training set\n",
    "hyperparam_tuning_model = DecisionTreeClassifier(**grid_search.best_params_)\n",
    "hyperparam_tuning_model.fit(processed_X_train, y_train)\n",
    "\n",
    "# Print model summary\n",
    "summarize_model(hyperparam_tuning_model)"
   ]
  },
  {
   "cell_type": "markdown",
   "metadata": {},
   "source": [
    "#### 4.3. Prediction, evaluation and result analysis"
   ]
  },
  {
   "cell_type": "code",
   "execution_count": 15,
   "metadata": {},
   "outputs": [
    {
     "data": {
      "text/plain": [
       "array([2, 2, 2, 2, 2, 2, 3])"
      ]
     },
     "execution_count": 15,
     "metadata": {},
     "output_type": "execute_result"
    }
   ],
   "source": [
    "# Make predictions on test data\n",
    "hyperparam_y_pred = predict(hyperparam_tuning_model)\n",
    "hyperparam_y_pred[:7]"
   ]
  },
  {
   "cell_type": "code",
   "execution_count": 16,
   "metadata": {},
   "outputs": [
    {
     "name": "stdout",
     "output_type": "stream",
     "text": [
      "Accuracy: 0.6042\n",
      "Confusion Matrix:\n",
      "[[ 84  90  60]\n",
      " [ 14  82  52]\n",
      " [  9  22 211]]\n",
      "Classification Report:\n",
      "              precision    recall  f1-score   support\n",
      "\n",
      "           1       0.79      0.36      0.49       234\n",
      "           2       0.42      0.55      0.48       148\n",
      "           3       0.65      0.87      0.75       242\n",
      "\n",
      "    accuracy                           0.60       624\n",
      "   macro avg       0.62      0.59      0.57       624\n",
      "weighted avg       0.65      0.60      0.59       624\n",
      "\n"
     ]
    },
    {
     "data": {
      "image/png": "[encoded data removed]",
      "text/plain": [
       "<Figure size 800x600 with 2 Axes>"
      ]
     },
     "metadata": {},
     "output_type": "display_data"
    }
   ],
   "source": [
    "# Evaluate prediction results\n",
    "evaluate(hyperparam_y_pred)"
   ]
  },
  {
   "cell_type": "markdown",
   "metadata": {},
   "source": [
    "We can see that the tuned tree, limited to a depth of 10, shows a better balance between bias and variance by preventing overfitting. It achieved an accuracy of **60.42%** (greater than 55.93% of the basic tree). Looking into each class, we observe:\n",
    "\n",
    "- Class 1 (Normal): Precision improved slightly (from 0.76 to 0.79), but recall remained the same.\n",
    "- Class 2 (Viral Pneumonia): Recall increased to 0.55 compared to the basic tree, indicating the model is now slightly better at identifying this class.\n",
    "- Class 3 (Bacterial Pneumonia): Recall remains strong at 0.87, suggesting the tuned tree retains high sensitivity for this class.\n",
    "\n",
    "The normalized confusion matrix also shows that misclassification between Normal and Viral Pneumonia remains a challenge. \n",
    "\n",
    "Overall, the grid search approach successfully reduced model complexity and boosted generalization, though additional improvements may still be needed."
   ]
  },
  {
   "cell_type": "markdown",
   "metadata": {},
   "source": [
    "### 5. Improve the Basic Model by Post-pruning\n",
    "\n",
    "Now we further refine the basic model through post-pruning by tuning the ccp_alpha parameter. \n",
    "\n",
    "Cost Complexity Pruning (CCP) is a technique to simplify the Decision Tree by removing branches that provide little improvement in model performance. This helps to reduce overfitting and improve generalization. \n",
    "\n",
    "The pruning process works by introducing a complexity parameter $\\alpha$, known as ccp_alpha. Increasing $\\alpha$ penalizes more complex trees, encouraging simpler models. The goal is to find an optimal $\\alpha$ that balances model accuracy and complexity.\n",
    "\n",
    "#### 5.1. Retrieve effective values of $\\alpha$\n",
    "\n",
    "Now we use function `cost_complexity_pruning_path` on the basic decision tree model trained in section 3 to get the sequence of effective $\\alpha$ values, where pruning actually changes the structure of the tree and the tree gets simpler."
   ]
  },
  {
   "cell_type": "code",
   "execution_count": 18,
   "metadata": {},
   "outputs": [
    {
     "name": "stdout",
     "output_type": "stream",
     "text": [
      "Number of ccp_alphas:  279\n",
      "[0.         0.0001857  0.00018638 0.00018688 0.00018749 0.00018895\n",
      " 0.00018925]\n"
     ]
    }
   ],
   "source": [
    "ccp_alphas = np.unique(basic_model.cost_complexity_pruning_path(processed_X_train, y_train)[\"ccp_alphas\"])\n",
    "print(\"Number of ccp_alphas: \", len(ccp_alphas))\n",
    "print(np.array2string(ccp_alphas[:7]))"
   ]
  },
  {
   "cell_type": "markdown",
   "metadata": {},
   "source": [
    "#### 5.2. Perform post-pruning and obtain the best $\\alpha$\n",
    "\n",
    "For each $\\alpha$ in `ccp_alphas` array, we will train the corresponding (pruned) decision tree and get the prediction on the test data to see its impact. Then the best $\\alpha$ will be the one with the highest accuracy."
   ]
  },
  {
   "cell_type": "code",
   "execution_count": 20,
   "metadata": {},
   "outputs": [
    {
     "name": "stdout",
     "output_type": "stream",
     "text": [
      "Best pruning parameter (ccp_alpha): 0.00373069 with accuracy 0.6410\n",
      "Decision Tree Model Summary:\n",
      "Number of features: 16384\n",
      "Number of classes: 3\n",
      "Tree depth: 6\n",
      "Number of leaves: 17\n",
      "Feature importances: [0. 0. 0. ... 0. 0. 0.]\n"
     ]
    }
   ],
   "source": [
    "# Track best parameters\n",
    "best_alpha = None\n",
    "best_score = 0\n",
    "best_pruning_model = None\n",
    "results = []\n",
    "\n",
    "# Post-pruning \n",
    "for ccp_alpha in ccp_alphas:\n",
    "    pruned_tree = DecisionTreeClassifier(ccp_alpha=ccp_alpha)\n",
    "    pruned_tree.fit(processed_X_train, y_train)\n",
    "    y_test_pred = predict(pruned_tree)\n",
    "    val_accuracy = accuracy_score(y_test, y_test_pred)\n",
    "\n",
    "    y_train_pred = pruned_tree.predict(processed_X_train)\n",
    "    train_accuracy = accuracy_score(y_train, y_train_pred)\n",
    "\n",
    "    results.append((ccp_alpha, train_accuracy, val_accuracy))\n",
    "    \n",
    "    if val_accuracy > best_score:\n",
    "        best_score = val_accuracy\n",
    "        best_alpha = ccp_alpha\n",
    "        best_pruning_model = pruned_tree\n",
    "    elif val_accuracy == best_score:\n",
    "        best_alpha = ccp_alpha\n",
    "        best_pruning_model = pruned_tree\n",
    "\n",
    "print(f\"Best pruning parameter (ccp_alpha): {best_alpha:.8f} with accuracy {best_score:.4f}\")\n",
    "summarize_model(best_pruning_model)"
   ]
  },
  {
   "cell_type": "code",
   "execution_count": 21,
   "metadata": {},
   "outputs": [
    {
     "data": {
      "image/png": "[encoded data removed]",
      "text/plain": [
       "<Figure size 1000x600 with 1 Axes>"
      ]
     },
     "metadata": {},
     "output_type": "display_data"
    }
   ],
   "source": [
    "# Convert results array to separate arrays for plotting\n",
    "ccp_alpha_values, train_accuracies, val_accuracies = zip(*results)\n",
    "\n",
    "# Plot accuracy vs ccp_alpha\n",
    "plt.figure(figsize=(10, 6))\n",
    "plt.plot(ccp_alpha_values, train_accuracies, marker='o', label='Training Accuracy')\n",
    "plt.plot(ccp_alpha_values, val_accuracies, marker='x', label='Validation Accuracy')\n",
    "plt.xlabel('ccp_alpha')\n",
    "plt.ylabel('Accuracy')\n",
    "plt.title('Training and Validation Accuracy vs ccp_alpha')\n",
    "plt.legend()\n",
    "plt.grid(True)\n",
    "plt.show()"
   ]
  },
  {
   "cell_type": "markdown",
   "metadata": {},
   "source": [
    "#### 5.3. Re-evaluate pruned decision tree and analyze result"
   ]
  },
  {
   "cell_type": "code",
   "execution_count": 24,
   "metadata": {},
   "outputs": [
    {
     "name": "stdout",
     "output_type": "stream",
     "text": [
      "Accuracy: 0.6410\n",
      "Confusion Matrix:\n",
      "[[100  66  68]\n",
      " [ 16  72  60]\n",
      " [  9   5 228]]\n",
      "Classification Report:\n",
      "              precision    recall  f1-score   support\n",
      "\n",
      "           1       0.80      0.43      0.56       234\n",
      "           2       0.50      0.49      0.49       148\n",
      "           3       0.64      0.94      0.76       242\n",
      "\n",
      "    accuracy                           0.64       624\n",
      "   macro avg       0.65      0.62      0.60       624\n",
      "weighted avg       0.67      0.64      0.62       624\n",
      "\n"
     ]
    },
    {
     "data": {
      "image/png": "[encoded data removed]",
      "text/plain": [
       "<Figure size 800x600 with 2 Axes>"
      ]
     },
     "metadata": {},
     "output_type": "display_data"
    }
   ],
   "source": [
    "# Predictions on test data\n",
    "pruning_y_pred = predict(best_pruning_model)\n",
    "# Evaluate prediction results\n",
    "evaluate(pruning_y_pred)"
   ]
  },
  {
   "cell_type": "markdown",
   "metadata": {},
   "source": [
    "The final pruned tree achieves an accuracy of **64.10%**, showing a slight improvement over the unpruned tree's 55.93%. Let’s break it down:\n",
    "\n",
    "- Class 1 (Normal): precision increased from 0.76 to 0.80, recall improved from 0.36 to 0.43.\n",
    "- Class 2 (Viral Pneumonia): precision rose from 0.38 to 0.50, recall dropped slightly from 0.50 to 0.49.\n",
    "- Class 3 (Bacterial Pneumonia): precision increased from 0.60 to 0.64, recall improved from 0.79 to 0.94.\n",
    "\n",
    "It can be seen that the pruned tree does a better job distinguishing Bacterial Pneumonia. The misclassification rate between Normal and Viral Pneumonia still remains high, though there’s a small shift in predicting Viral Pneumonia and identifying Normal more accurately. This suggests the features may not be fully separable for those classes — possibly pointing to the need for further feature engineering or a more complex model."
   ]
  },
  {
   "cell_type": "markdown",
   "metadata": {},
   "source": [
    "### 6. Conclusion\n",
    "\n",
    "Until now, we have applied Decision Trees to classify images from the CoronaHack Chest X-Ray dataset with the process involving:\n",
    "\n",
    "- Basic Decision Tree: Building a fully grown tree with 55.93% accuracy, showing overfitting with 37 levels and 505 leaves.\n",
    "- K-Fold Cross-Validation with Grid Search: Tuning `max_depth`, `min_samples_split`, and `min_samples_leaf` using 5-fold cross-validation, finding the best combination and obtaining the model with accuracy 60.42%.\n",
    "- Post-pruning (Cost Complexity Pruning): Using cost complexity pruning (`ccp_alpha`) to simplify the tree, choosing an optimal $\\alpha$ to reduce complexity. The final pruned tree reached 64.10% accuracy — a balance between complexity and performance.\n",
    "\n",
    "Using the decision tree can have several advantages:\n",
    "\n",
    "- Intuitive and easy to visualize, aiding interpretability.\n",
    "- Handles both numerical and categorical data.\n",
    "- Minimal preprocessing required, making implementation simple.\n",
    "- Able to capture non-linear relationships between features and targets.\n",
    "- Allows for feature importance ranking, highlighting which attributes impact predictions most.\n",
    "\n",
    "Besides, there are also drawbacks in using this kind of model:\n",
    "\n",
    "- Prone to overfitting without pruning or hyperparameter tuning.\n",
    "- Sensitive to data variations, resulting in instability.\n",
    "- Biased towards features with more levels, impacting splits.\n",
    "- Limited extrapolation ability, as splits are axis-parallel and may struggle with complex patterns.\n",
    "- Less effective for small datasets with noisy features.\n",
    "\n",
    "In summary, Decision Trees provided a solid baseline for classifying chest X-ray images, revealing both their strengths in interpretability and their limitations in handling overfitting. Further improvements could be achieved by leveraging ensemble methods"
   ]
  },
  {
   "cell_type": "code",
   "execution_count": null,
   "metadata": {},
   "outputs": [],
   "source": []
  }
 ],
 "metadata": {
  "kernelspec": {
   "display_name": "Python 3 (ipykernel)",
   "language": "python",
   "name": "python3"
  },
  "language_info": {
   "codemirror_mode": {
    "name": "ipython",
    "version": 3
   },
   "file_extension": ".py",
   "mimetype": "text/x-python",
   "name": "python",
   "nbconvert_exporter": "python",
   "pygments_lexer": "ipython3",
   "version": "3.10.12"
  }
 },
 "nbformat": 4,
 "nbformat_minor": 4
}
